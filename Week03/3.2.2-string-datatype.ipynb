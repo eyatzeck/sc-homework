{
 "cells": [
  {
   "cell_type": "markdown",
   "metadata": {},
   "source": [
    "### **Sequence data types** \n"
   ]
  },
  {
   "cell_type": "markdown",
   "metadata": {},
   "source": [
    "| Category | Data Type  |Casting function | Examples  |\n",
    "|----------|------------|--------------|-----------|\n",
    "| Sequence    | string (str) | str(data)| `x = “Hello World`|\n",
    "| Sequence | list | list(data)|`x = [“apple”, “banana”, “cherry”]`\t     |\n",
    "| Sequence | tuple | tuple(data) |`x = (“apple”, “banana”, “cherry”)`      |\n",
    "                                                  "
   ]
  },
  {
   "cell_type": "markdown",
   "metadata": {},
   "source": [
    "### Python Strings\n",
    "\n",
    "- Strings are surrounded by either single quotation marks (`'string'`) or double quotation marks (`\"string\"`).\n",
    "\n",
    "- Multi-line strings are designated with triple (3x) double or single quotes (`\"\"\" / \"\"\"`) or (`''' / '''`)"
   ]
  },
  {
   "cell_type": "code",
   "execution_count": null,
   "metadata": {},
   "outputs": [],
   "source": [
    "# multi line strings \n",
    "\n",
    "ex1 = \"\"\"\n",
    "This is a multi line string.\n",
    "Because it contains more than.\n",
    "One line of text.\n",
    "      \"\"\"\n",
    "ex2 = \"\"\"This is a multiline string, but it only has one line of text.\"\"\"\n",
    "\n",
    "ex2 = \"This is not a multiline string. It only has one line of text.\"\n",
    "\n",
    "print(ex1)"
   ]
  },
  {
   "cell_type": "markdown",
   "metadata": {},
   "source": [
    "![Slicing in Python](./images/String_slicing.png)"
   ]
  },
  {
   "cell_type": "markdown",
   "metadata": {},
   "source": [
    "|-1|-2|-3|-4|-5|-6|-7|-8|\n",
    "|-|-|-|-|-|-|-|-|\n",
    "|L|E|M|O|N|A|D|E|\n",
    "|0|1|2|3|4|5|6|7|"
   ]
  },
  {
   "cell_type": "code",
   "execution_count": null,
   "metadata": {},
   "outputs": [],
   "source": [
    "# class example here \n",
    "\n",
    "\n",
    "example_string = 'lemonade'\n",
    "\n",
    "\n",
    "\n",
    "\n",
    "\n",
    "\n",
    "\n"
   ]
  },
  {
   "cell_type": "markdown",
   "metadata": {},
   "source": [
    "### Breakout: String Slicing\n",
    "|-1|-2|-3|-4|-5|-6|-7|-8|-9|-10|-11\n",
    "|-|-|-|-|-|-|-|-|-|-|-|\n",
    "|S|A|V|V|Y|C|O|D|E|R|S|\n",
    "|0|1|2|3|4|5|6|7|8|9|10|\n",
    "###### Reference: Index position \n"
   ]
  },
  {
   "cell_type": "code",
   "execution_count": null,
   "metadata": {},
   "outputs": [],
   "source": [
    "#run this cell unchanged \n",
    "\n",
    "string = \"savvycoders\""
   ]
  },
  {
   "cell_type": "code",
   "execution_count": null,
   "metadata": {},
   "outputs": [],
   "source": [
    "# 1. use string slicing to pull out the word: savvy "
   ]
  },
  {
   "cell_type": "code",
   "execution_count": null,
   "metadata": {},
   "outputs": [],
   "source": [
    "# 2. use string slicing to pull out the word: coders"
   ]
  },
  {
   "cell_type": "code",
   "execution_count": null,
   "metadata": {},
   "outputs": [],
   "source": [
    "# 3. use string slicing to pull out these letters: yco"
   ]
  },
  {
   "cell_type": "code",
   "execution_count": null,
   "metadata": {},
   "outputs": [],
   "source": [
    "# 4. use string slicing to pull out the first 3 letter in the word: sav"
   ]
  },
  {
   "cell_type": "code",
   "execution_count": null,
   "metadata": {},
   "outputs": [],
   "source": [
    "# 5. use string slicing to pull out the word: code "
   ]
  },
  {
   "cell_type": "code",
   "execution_count": null,
   "metadata": {},
   "outputs": [],
   "source": [
    "# 6. use string slicing to pull out the last letter: s"
   ]
  },
  {
   "cell_type": "code",
   "execution_count": null,
   "metadata": {},
   "outputs": [],
   "source": [
    "# 7. use string slicing to print out every other letter"
   ]
  },
  {
   "cell_type": "code",
   "execution_count": null,
   "metadata": {},
   "outputs": [],
   "source": [
    "# 8. find the length of the string using len() function"
   ]
  },
  {
   "cell_type": "markdown",
   "metadata": {},
   "source": [
    "### **String methods**"
   ]
  },
  {
   "cell_type": "markdown",
   "metadata": {},
   "source": [
    "| Function   Name  | Description                                                                              |\n",
    "|------------------|------------------------------------------------------------------------------------------|\n",
    "| capitalize()     | Converts the first character of   the string to a capital (uppercase) letter             |\n",
    "| casefold()       | Implements caseless string   matching                                                    |\n",
    "| center()         | Pad the string with the   specified character.                                           |\n",
    "| count()          | Returns the number of   occurrences of a substring in the string.                        |\n",
    "| encode()         | Encodes strings with the   specified encoded scheme                                      |\n",
    "| endswith()       | Returns “True” if a string ends   with the given suffix                                  |\n",
    "| expandtabs()     | Specifies the amount of space   to be substituted with the “\\t” symbol in the string     |\n",
    "| find()           | Returns the lowest index of the   substring if it is found                               |\n",
    "| format()         | Formats the string for printing   it to console                                          |\n",
    "| format_map()     | Formats specified values in a   string using a dictionary                                |\n",
    "| index()          | Returns the position of the   first occurrence of a substring in a string                |\n",
    "| isalnum()        | Checks whether all the   characters in a given string is alphanumeric or not             |\n",
    "| isalpha()        | Returns “True” if all   characters in the string are alphabets                           |\n",
    "| isdecimal()      | Returns true if all characters   in a string are decimal                                 |\n",
    "| isdigit()        | Returns “True” if all   characters in the string are digits                              |\n",
    "| isidentifier()   | Check whether a string is a   valid identifier or not                                    |\n",
    "| islower()        | Checks if all characters in the   string are lowercase                                   |\n",
    "| isnumeric()      | Returns “True” if all   characters in the string are numeric characters                  |\n",
    "| isprintable()    | Returns “True” if all   characters in the string are printable or the string is empty    |\n",
    "| isspace()        | Returns “True” if all   characters in the string are whitespace characters               |\n",
    "| istitle()        | Returns “True” if the string is   a title cased string                                   |\n",
    "| isupper()        | Checks if all characters in the   string are uppercase                                   |\n",
    "| join()           | Returns a concatenated String                                                            |\n",
    "| ljust()          | Left aligns the string   according to the width specified                                |\n",
    "| lower()          | Converts all uppercase   characters in a string into lowercase                           |\n",
    "| lstrip()         | Returns the string with leading   characters removed                                     |\n",
    "| maketrans()      |  Returns a translation   table                                                           |\n",
    "| partition()      | Splits the string at the first   occurrence of the separator                             |\n",
    "| replace()        | Replaces all occurrences of a   substring with another substring                         |\n",
    "| rfind()          | Returns the highest index of   the substring                                             |\n",
    "| rindex()         | Returns the highest index of   the substring inside the string                           |\n",
    "| rjust()          | Right aligns the string   according to the width specified                               |\n",
    "| rpartition()     | Split the given string into   three parts                                                |\n",
    "| rsplit()         | Split the string from the right   by the specified separator                             |\n",
    "| rstrip()         | Removes trailing characters                                                              |\n",
    "| splitlines()     | Split the lines at line   boundaries                                                     |\n",
    "| startswith()     | Returns “True” if a string   starts with the given prefix                                |\n",
    "| strip()          | Returns the string with both   leading and trailing characters                           |\n",
    "| swapcase()       | Converts all uppercase   characters to lowercase and vice versa                          |\n",
    "| title()          | Convert string to title case                                                             |\n",
    "| translate()      | Modify string according to   given translation mappings                                  |\n",
    "| upper()          | Converts all lowercase   characters in a string into uppercase                           |\n",
    "| zfill()          | Returns a copy of the string   with ‘0’ characters padded to the left side of the string |"
   ]
  },
  {
   "cell_type": "code",
   "execution_count": null,
   "metadata": {},
   "outputs": [],
   "source": [
    "# demonstrate replace()"
   ]
  },
  {
   "cell_type": "code",
   "execution_count": null,
   "metadata": {},
   "outputs": [],
   "source": [
    "# demonstrate upper and lower\n",
    " "
   ]
  },
  {
   "cell_type": "code",
   "execution_count": null,
   "metadata": {},
   "outputs": [],
   "source": [
    "# demonstrates startswith() and endswith()"
   ]
  },
  {
   "cell_type": "code",
   "execution_count": null,
   "metadata": {},
   "outputs": [],
   "source": [
    "#demonstrate index()"
   ]
  }
 ],
 "metadata": {
  "kernelspec": {
   "display_name": "base",
   "language": "python",
   "name": "python3"
  },
  "language_info": {
   "codemirror_mode": {
    "name": "ipython",
    "version": 3
   },
   "file_extension": ".py",
   "mimetype": "text/x-python",
   "name": "python",
   "nbconvert_exporter": "python",
   "pygments_lexer": "ipython3",
   "version": "3.10.8"
  },
  "orig_nbformat": 4
 },
 "nbformat": 4,
 "nbformat_minor": 2
}
