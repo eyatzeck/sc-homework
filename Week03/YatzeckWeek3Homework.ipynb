{
 "cells": [
  {
   "cell_type": "code",
   "execution_count": 13,
   "id": "e51c7aad-22a3-4fd1-9276-d4950871ecfa",
   "metadata": {},
   "outputs": [
    {
     "name": "stdout",
     "output_type": "stream",
     "text": [
      "12\n",
      " \n",
      "ing Data Analytics \n",
      "Learning Data Analytics and Python is great!\n",
      "Learning Data Analytics and Python is Awesome!\n"
     ]
    }
   ],
   "source": [
    "# Elena Yatzeck homework Week 2 Savvy Coders DAP\n",
    "\n",
    "# 6. Write a multi-line comment with your name, favorite food, and dream job on 3 different lines\n",
    "\n",
    "'''\n",
    "Elena Yatzeck\n",
    "Baked Chicken\n",
    "Business Intelligence Specialist\n",
    "'''"
   ]
  },
  {
   "cell_type": "code",
   "execution_count": 14,
   "id": "d67d4826-4d70-4231-8d57-954d03a670c8",
   "metadata": {},
   "outputs": [],
   "source": [
    "# 7. Assign 5 different data types to 5 different variables. At least one datatype must be a string  \n",
    "\n",
    "var1 = 1\n",
    "var2 = 2.0\n",
    "var3 = \"I'm a string\"\n",
    "var4 = False\n",
    "var5 = 1j\n"
   ]
  },
  {
   "cell_type": "code",
   "execution_count": 15,
   "id": "f478aeef-fd4e-421f-8ed5-ebbe2fd4d708",
   "metadata": {},
   "outputs": [
    {
     "name": "stdout",
     "output_type": "stream",
     "text": [
      "12\n"
     ]
    }
   ],
   "source": [
    "#    - Print the length of your string\n",
    "print(len(var3))"
   ]
  },
  {
   "cell_type": "code",
   "execution_count": 16,
   "id": "a232e0de-3b79-4f36-b53e-adf36f1426d1",
   "metadata": {},
   "outputs": [
    {
     "name": "stdout",
     "output_type": "stream",
     "text": [
      " \n"
     ]
    }
   ],
   "source": [
    "#    - Print the index value of the 4th character in your string\n",
    "print(var3[3])"
   ]
  },
  {
   "cell_type": "code",
   "execution_count": 17,
   "id": "0b49625c-0668-4d69-8cf3-5cf67ef19fee",
   "metadata": {},
   "outputs": [],
   "source": [
    "# 8. Create a new variable called savvy, and assign it the string with this phrase \"Learning Data Analytics and Python is Awesome!\"\n",
    "savvy = \"Learning Data Analytics and Python is Awesome!\""
   ]
  },
  {
   "cell_type": "code",
   "execution_count": 18,
   "id": "2251c4af-b7fa-4e29-9283-14b99184c676",
   "metadata": {},
   "outputs": [
    {
     "name": "stdout",
     "output_type": "stream",
     "text": [
      "ing Data Analytics \n"
     ]
    }
   ],
   "source": [
    "#    - Return a range of characters that slices the above string from the beginning of  \"ing\" up to before \"and\"\n",
    "print(savvy[5:24])"
   ]
  },
  {
   "cell_type": "code",
   "execution_count": 19,
   "id": "98bbc3b7-da97-411d-9264-a605c2d30f42",
   "metadata": {},
   "outputs": [
    {
     "name": "stdout",
     "output_type": "stream",
     "text": [
      "Learning Data Analytics and Python is great!\n"
     ]
    }
   ],
   "source": [
    "#    - Replace \"Awesome\" with \"great\" in the string\n",
    "print(savvy.replace(\"Awesome\", \"great\"))"
   ]
  },
  {
   "cell_type": "code",
   "execution_count": 20,
   "id": "dce46c84-2549-4968-b6fd-20af6e4450d8",
   "metadata": {},
   "outputs": [
    {
     "name": "stdout",
     "output_type": "stream",
     "text": [
      "Learning Data Analytics and Python is Awesome!\n"
     ]
    }
   ],
   "source": [
    "#    - Test and print the savvy string to see it contains \"Python\"\n",
    "print(savvy)"
   ]
  },
  {
   "cell_type": "code",
   "execution_count": 26,
   "id": "e02e5872-ace9-48c5-b3eb-93224f183bdd",
   "metadata": {},
   "outputs": [],
   "source": [
    "# 9. Create and assign 3 more variables called name, age and length using the multi-variable naming method\n",
    "name, age, tall = \"Elena\", \"10\", \"6\""
   ]
  },
  {
   "cell_type": "code",
   "execution_count": 28,
   "id": "aad9dae4-f97a-446b-9a21-58aa51f11039",
   "metadata": {},
   "outputs": [],
   "source": [
    "#    - Format a new string called 'miniBio' using variables in curly brackets to complete this phrase... \"Hi my name is (name), I am (tall) and (so) old today.\"\n",
    "miniBio = \"Hi, my name is \" + name + \", I am \" + tall + \" tall, and \"+ age+\" old today\"\n"
   ]
  },
  {
   "cell_type": "code",
   "execution_count": 29,
   "id": "c5daf74b-d2a5-4597-9f9e-f109454301f9",
   "metadata": {},
   "outputs": [
    {
     "name": "stdout",
     "output_type": "stream",
     "text": [
      "Hi, my name is Elena, I am 6 tall, and 10 old today\n"
     ]
    }
   ],
   "source": [
    "#    - Print 'miniBio'\n",
    "print(miniBio)"
   ]
  },
  {
   "cell_type": "code",
   "execution_count": 30,
   "id": "064d705f-069f-4cb9-b2f9-66d5bfe98299",
   "metadata": {},
   "outputs": [
    {
     "name": "stdout",
     "output_type": "stream",
     "text": [
      "10.0\n"
     ]
    }
   ],
   "source": [
    "#     - Cast and print the age variable to a float\n",
    "print(float(age))"
   ]
  },
  {
   "cell_type": "code",
   "execution_count": 41,
   "id": "910149c5-a81a-45aa-8afa-5e8cd533a9a4",
   "metadata": {},
   "outputs": [
    {
     "name": "stdout",
     "output_type": "stream",
     "text": [
      "7\n"
     ]
    }
   ],
   "source": [
    "#### Complex Data Types:\n",
    "\n",
    "# 10. Create a list of at least 5 elements of mixed data types\n",
    "myList = [var1, var2, var3, var4, var5]\n",
    "\n",
    "#    - Replace a part of it with something else\n",
    "myList[0] = 22\n",
    "\n",
    "#    - Append or insert several more items to the list\n",
    "myList.append(\"Zardok\")\n",
    "myList.append(2.6)\n",
    "\n",
    "#    - Find and print the length of the list\n",
    "print(len(myList))"
   ]
  },
  {
   "cell_type": "code",
   "execution_count": 65,
   "id": "57340bdc-902a-4157-964c-415f43cb32d4",
   "metadata": {},
   "outputs": [
    {
     "name": "stdout",
     "output_type": "stream",
     "text": [
      "['five', 'four', 'one', 'three', 'two']\n"
     ]
    }
   ],
   "source": [
    "#    - Extend your original list with the 2nd list sliced above\n",
    "myList3 = myList + myList2\n",
    "\n",
    "#    - Create a new list called \"simList\" containing at least 5 elements of the same data type, either string, integer, float, or Boolean\n",
    "simList = [\"one\",\"two\",\"three\",\"four\",\"five\"]\n",
    "\n",
    "#    - Sort \"simList\", and print the list\n",
    "simList.sort()\n",
    "\n",
    "#    - Copy the \"simList\" list to another 3rd list <== note from emy -- I didn't notice that we created a second list.  This is confusing.\n",
    "simList3 = simList\n",
    "print(simList3)\n",
    "\n",
    "#    - Add the 2nd and 3rd lists together into a 4th list\n"
   ]
  },
  {
   "cell_type": "code",
   "execution_count": 1,
   "id": "67a722ab-4c3a-48e1-b6f2-ee72b986b3a0",
   "metadata": {},
   "outputs": [
    {
     "name": "stdout",
     "output_type": "stream",
     "text": [
      "2\n",
      "(1, 1, 1, 2, 2, 2, 3, 3, 3, 4, 4, 4, 5, 5, 5)\n",
      "1\n",
      "2\n",
      "3\n",
      "4\n",
      "(1, 2, 3, 4, 5, 1, 2, 3, 4, 5, 1, 2, 3, 4, 5, 1, 2, 3, 4)\n"
     ]
    }
   ],
   "source": [
    "# 11. Create a tuple of about 5 elements\n",
    "tuple1 = ( 1, 2, 3, 4, 5)\n",
    "\n",
    "#     - Multiply your tuple by 3 and save it to a new 2nd tuple\n",
    "tuple2 = tuple1 * 3\n",
    "\n",
    "#     - Access and print the 12th element from the 2nd tuple\n",
    "print(tuple2[11])\n",
    "\n",
    "#     - Sort the 2nd tuple and print it\n",
    "sorted_ = tuple(sorted(tuple2))\n",
    "print(sorted_)\n",
    "\n",
    "#     - Copy 4 specific elements from your 2nd tuple to a new 3nd tuple\n",
    "tuple3 = tuple2[0:4]\n",
    "\n",
    "#     - Unpack the 3rd tuple into 4 variables and print these variables\n",
    "t0 = tuple3[0]\n",
    "t1 = tuple3[1]\n",
    "t2 = tuple3[2]\n",
    "t3 = tuple3[3]\n",
    "print(t0)\n",
    "print(t1)\n",
    "print(t2)\n",
    "print(t3)\n",
    "\n",
    "#     - Create a 4th tuple with single item 50 and print this tuple\n",
    "tuple4 = (50)\n",
    "\n",
    "#     - Add the 2nd and 3rd tuple together into a 5th tuple and print the tuple\n",
    "tuple5 = tuple2 + tuple3\n",
    "print(tuple5)\n",
    "\n",
    "# 12. Create a set of about 3 elements\n",
    "#     - Add a list of fruits to the above set and print the result\n",
    "#     - Add a car element to your set\n",
    "#     - Create a 2nd set with a few odd items\n",
    "#     - Save the union of 1st set and 2nd set to a 3rd set\n",
    "#     - Pop an element from the 2nd set, and print the remainder of the set\n",
    "#     - Clear the 1st set and print the result\n",
    "#     - Discard an element, and remove another element from the 3rd set\n",
    "#     - Print the remainder of the 3rd set\n",
    "\n",
    "# 13. Create a dictionary with at least 5 values of different data types\n",
    "#     - Print out 1 value\n",
    "#     - Replace any one value in your dictionary with your name\n",
    "#     - Add your favorite color to the dictionary\n",
    "#     - Add a list, tuple or set to your dictionary\n",
    "#     - Print a list of the dictionary keys\n",
    "#     - Print a list of the dictionary values\n",
    "#     - Copy your 1st dictionary into a 2nd dictionary\n",
    "#     - Pop an item from the 2nd dictionary, and print the dictionary\n",
    "#     - Remove all the elements from the 2nd dictionary and print the result"
   ]
  },
  {
   "cell_type": "code",
   "execution_count": null,
   "id": "26b2c550-9dca-44cc-af02-257446d38277",
   "metadata": {},
   "outputs": [],
   "source": []
  }
 ],
 "metadata": {
  "kernelspec": {
   "display_name": "Python 3 (ipykernel)",
   "language": "python",
   "name": "python3"
  },
  "language_info": {
   "codemirror_mode": {
    "name": "ipython",
    "version": 3
   },
   "file_extension": ".py",
   "mimetype": "text/x-python",
   "name": "python",
   "nbconvert_exporter": "python",
   "pygments_lexer": "ipython3",
   "version": "3.11.5"
  }
 },
 "nbformat": 4,
 "nbformat_minor": 5
}
