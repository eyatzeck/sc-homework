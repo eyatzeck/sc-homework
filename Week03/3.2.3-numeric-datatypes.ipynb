{
 "cells": [
  {
   "cell_type": "markdown",
   "metadata": {},
   "source": [
    "## **Casting to different data types**"
   ]
  },
  {
   "cell_type": "code",
   "execution_count": 2,
   "metadata": {},
   "outputs": [
    {
     "name": "stdout",
     "output_type": "stream",
     "text": [
      "5\n"
     ]
    }
   ],
   "source": [
    "#string\n",
    "#demonstrate index()\n",
    "string = 'SAVVYCODERS'\n",
    "print(string.index('C'))\n",
    "\n",
    "# place examples here \n",
    "\n"
   ]
  },
  {
   "cell_type": "markdown",
   "metadata": {},
   "source": [
    "### **Numeric Data Types**\n",
    "\n",
    "|Category|Data Types| casting function| Examples|\n",
    "|--------|----------|--------|-----|\n",
    "| Numeric  | integer (int)  |  int(data)   | `x = 20`  |\n",
    "| Numeric  | Floating-Point Numbers (float) |float(data)| `x = 20.5` (numbers with a decimal point) |"
   ]
  },
  {
   "cell_type": "markdown",
   "metadata": {},
   "source": [
    "### **Mathematical Operators**\n",
    "\n",
    "| Operator | Name | Example |\n",
    "|----|----|----|\n",
    "| `+` | Addition | x + y |\n",
    "| `-` | Subtraction | x - y |\n",
    "| `*` | Multiplication | x * y |\n",
    "| `/` | Division | x / y |\n",
    "| `%` | Modulus | x % y |\n",
    "| `**` | Exponentiation | x ** y |\n",
    "| `//` | Floor division | x // y |"
   ]
  },
  {
   "cell_type": "code",
   "execution_count": null,
   "metadata": {},
   "outputs": [],
   "source": [
    "# place class examples here"
   ]
  },
  {
   "cell_type": "markdown",
   "metadata": {},
   "source": [
    "### **Breakout: Code Along Simple Math Calculator**  \n"
   ]
  },
  {
   "cell_type": "markdown",
   "metadata": {},
   "source": [
    "### **Comparison Operators**\n",
    "\n",
    "| Operator | Name | Example |\n",
    "|----|----|----|\n",
    "| == | Equal | a == b |\n",
    "| != | Not Equal | a != b |\n",
    "| > | Greater Than | a > b |\n",
    "| < | Less Than | a < b |\n",
    "| >= | Greater than OR equal to | a >= b |\n",
    "| <= | Less than OR equal to | a <= b |"
   ]
  },
  {
   "cell_type": "markdown",
   "metadata": {},
   "source": [
    "### **Booleans**\n",
    "\n",
    "Booleans represent one of two values: True or False\n",
    "\n",
    "|Category|Data Types| casting function| Examples|\n",
    "|--------|----------|--------|-----|\n",
    " boolean |  boolean |bool(data)| `x = True`|"
   ]
  },
  {
   "cell_type": "markdown",
   "metadata": {},
   "source": [
    "### **Logical Operators**\n",
    "\n",
    "Logical operators are operations between two logical expressions that we call `kitten` and `puppy`"
   ]
  },
  {
   "cell_type": "markdown",
   "metadata": {},
   "source": [
    "![image](./images/logicOperators.png)"
   ]
  },
  {
   "cell_type": "code",
   "execution_count": null,
   "metadata": {},
   "outputs": [],
   "source": [
    "kitten = True \n",
    "puppy = True\n",
    "\n",
    "print(bool(kitten and puppy))\n",
    "\n",
    "print(kitten != puppy)\n"
   ]
  },
  {
   "cell_type": "code",
   "execution_count": null,
   "metadata": {},
   "outputs": [],
   "source": [
    "kitten = False\n",
    "puppy = False\n",
    "\n",
    "print(bool(kitten or puppy))"
   ]
  },
  {
   "cell_type": "code",
   "execution_count": null,
   "metadata": {},
   "outputs": [],
   "source": [
    "kitten = True\n",
    "puppy = False\n",
    "\n",
    "print(bool(kitten and (not puppy)))"
   ]
  }
 ],
 "metadata": {
  "kernelspec": {
   "display_name": "base",
   "language": "python",
   "name": "python3"
  },
  "language_info": {
   "codemirror_mode": {
    "name": "ipython",
    "version": 3
   },
   "file_extension": ".py",
   "mimetype": "text/x-python",
   "name": "python",
   "nbconvert_exporter": "python",
   "pygments_lexer": "ipython3",
   "version": "3.11.5"
  },
  "orig_nbformat": 4
 },
 "nbformat": 4,
 "nbformat_minor": 2
}
