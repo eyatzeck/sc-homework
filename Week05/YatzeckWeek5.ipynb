{
 "cells": [
  {
   "cell_type": "markdown",
   "metadata": {},
   "source": [
    "# Elena Yatzeck Homework Week 05\n",
    "\n",
    "Use markdown formatting for the following questions (e.g., bold lettering, bullet points, different font sizes, etc.): \n",
    "\n",
    "1. __What does Pandas stand for?__ Python Data Analysis or Panel Data\n",
    "2. __What are the 2 collections used in Pandas?__ DataFrames and Series\n",
    "3. __Name 4 things Pandas can do for us.__ It has functions for analyzing, cleaning, exploring, and manipulating data\n",
    "4. __To permanently sort a DataFrame, which keyword should one use with the `df.sort()` method?__  Question:  do you mean df.sort_values()?  Is there a df.sort()?  If df.sort_values(), keyword is inplace=True\n",
    "5. __What is a CSV?__  A CSV is a comma-separated values file, which allows data to be saved in a tabular format.\n",
    "6. __When cleaning data what values do we not like in our data?__ nulls, values of the wrong datatype (example:  a character string in a column which should have all ints)"
   ]
  },
  {
   "cell_type": "markdown",
   "metadata": {},
   "source": [
    "#### **Please Complete this Coding Exercise:**\n",
    "\n",
    "7. Import NumPy, use one of the NumPy methods and create an array with a shape of (2, 3, 2). You can use the reshape method -- `.reshape()`"
   ]
  },
  {
   "cell_type": "code",
   "execution_count": 3,
   "metadata": {},
   "outputs": [
    {
     "name": "stdout",
     "output_type": "stream",
     "text": [
      "(2, 6)\n",
      "[[[ 1  2]\n",
      "  [ 3  4]\n",
      "  [ 5  6]]\n",
      "\n",
      " [[ 7  8]\n",
      "  [ 9 10]\n",
      "  [11 12]]]\n"
     ]
    }
   ],
   "source": [
    "import numpy as np\n",
    "\n",
    "numbers = np.array([[1, 2, 3, 4, 5, 6], [7, 8, 9, 10, 11,12]])\n",
    "print(numbers.shape)\n",
    "reshapeArray = numbers.reshape(2,3,2)\n",
    "print(reshapeArray)\n"
   ]
  },
  {
   "cell_type": "markdown",
   "metadata": {},
   "source": [
    "8. Use NumPy `.linspace()` to create an array with 6 linearly spaced values between 0 and 20"
   ]
  },
  {
   "cell_type": "code",
   "execution_count": 4,
   "metadata": {},
   "outputs": [
    {
     "name": "stdout",
     "output_type": "stream",
     "text": [
      "[ 0.  4.  8. 12. 16. 20.]\n"
     ]
    }
   ],
   "source": [
    "linspaceArray = np.linspace(start = 0, stop = 20, num = 6)\n",
    "print(linspaceArray)"
   ]
  },
  {
   "cell_type": "markdown",
   "metadata": {},
   "source": [
    "9. Make a Deep Copy of the above array"
   ]
  },
  {
   "cell_type": "code",
   "execution_count": 5,
   "metadata": {},
   "outputs": [
    {
     "name": "stdout",
     "output_type": "stream",
     "text": [
      "[ 0.  4.  8. 12. 16. 20.]\n"
     ]
    }
   ],
   "source": [
    "from copy import copy, deepcopy\n",
    "dpArray = deepcopy(linspaceArray)\n",
    "print(dpArray)"
   ]
  },
  {
   "cell_type": "markdown",
   "metadata": {},
   "source": [
    "10. Concatenate these 3 arrays into a new array named 'newArray'...\n",
    "    ```python\n",
    "            ([[25, 16]])\n",
    "            ([[11, 2], [13, 4]])\n",
    "            ([[7, 81], [5, 6], [11, 12]])\n",
    "    ```"
   ]
  },
  {
   "cell_type": "code",
   "execution_count": 6,
   "metadata": {},
   "outputs": [
    {
     "name": "stdout",
     "output_type": "stream",
     "text": [
      "[25 16 11  2 13  4  7 81  5  6 11 12]\n"
     ]
    }
   ],
   "source": [
    "newArray = np.append(([[25, 16]]), np.append(([[11, 2], [13, 4]]),([[7, 81], [5, 6], [11, 12]])))\n",
    "print(newArray)"
   ]
  },
  {
   "cell_type": "markdown",
   "metadata": {},
   "source": [
    "11. Sort 'newArray' in order into 'sortedArray'"
   ]
  },
  {
   "cell_type": "code",
   "execution_count": 7,
   "metadata": {},
   "outputs": [
    {
     "name": "stdout",
     "output_type": "stream",
     "text": [
      "[ 2  4  5  6  7 11 11 12 13 16 25 81]\n"
     ]
    }
   ],
   "source": [
    "sortedArray = np.sort(newArray)\n",
    "print(sortedArray)"
   ]
  },
  {
   "cell_type": "markdown",
   "metadata": {},
   "source": [
    "\n",
    "12. Unpack the array tuples from the above 'reshapedArray'  into 4 well named variables. Print the 4 variables.\n",
    "\n"
   ]
  },
  {
   "cell_type": "code",
   "execution_count": 8,
   "metadata": {},
   "outputs": [
    {
     "name": "stdout",
     "output_type": "stream",
     "text": [
      "[[ 1  2  3]\n",
      " [ 4  5  6]\n",
      " [ 7  8  9]\n",
      " [10 11 12]]\n",
      "a =  [1 2 3]\n",
      "b =  [4 5 6]\n",
      "c =  [7 8 9]\n",
      "d =  [10 11 12]\n",
      "The data type of d ... <class 'numpy.ndarray'>\n"
     ]
    }
   ],
   "source": [
    "# The solution described in class was to reshape the array from (2,3,2) to something divisible by 4, then unpack.\n",
    "reshape_array_again = reshapeArray.reshape(4,3)\n",
    "print(reshape_array_again)\n",
    "\n",
    "### Unpack the array\n",
    "a, b, c, d = reshape_array_again\n",
    "print(\"a = \", a)\n",
    "print(\"b = \", b)\n",
    "print(\"c = \",c)\n",
    "print(\"d = \", d)\n",
    "print(\"The data type of d ...\", type(c))\n"
   ]
  },
  {
   "cell_type": "markdown",
   "metadata": {},
   "source": [
    "13. Combined and sort the following arrays into one called 'comboArray' ...\n",
    "\n",
    "    ```python\n",
    "        one = ([10, 11, 12, 13, 14, 15, 16, 17])\n",
    "        two = ([20, 21, 22, 23, 24, 25, 26, 27])\n",
    "        three = ([ 0, 1, 2, 3, 4, 5, 6, 7])\n",
    "    ```\n"
   ]
  },
  {
   "cell_type": "code",
   "execution_count": 9,
   "metadata": {},
   "outputs": [
    {
     "name": "stdout",
     "output_type": "stream",
     "text": [
      "[ 0  1  2  3  4  5  6  7 10 11 12 13 14 15 16 17 20 21 22 23 24 25 26 27]\n"
     ]
    }
   ],
   "source": [
    "one = ([10, 11, 12, 13, 14, 15, 16, 17])\n",
    "two = ([20, 21, 22, 23, 24, 25, 26, 27])\n",
    "three = ([ 0, 1, 2, 3, 4, 5, 6, 7])\n",
    "comboArray = np.sort(np.append(one, np.append(two,three)))\n",
    "\n",
    "print(comboArray)"
   ]
  },
  {
   "cell_type": "markdown",
   "metadata": {},
   "source": [
    "14. Take 'comboArray' and perform the following slicing activities:\n",
    "    - print sec1 - the 2nd element\n",
    "    - print sec2 - all elements from the 3rd element to the last\n",
    "    - print sec3 - all elements from the 4th to the 14th elements\n",
    "    - print sec4 - the last 6 elements\n",
    "    - print sec5 - all element from #0 up to and including #15, using the negative number method, i.e. taking a section from the end.\n",
    "    - print sec6 - from #20 every even element to the end\n",
    "    - print sec7 - from the last element moving forward, every 5th element."
   ]
  },
  {
   "cell_type": "code",
   "execution_count": null,
   "metadata": {},
   "outputs": [],
   "source": []
  },
  {
   "cell_type": "code",
   "execution_count": 10,
   "metadata": {},
   "outputs": [
    {
     "name": "stdout",
     "output_type": "stream",
     "text": [
      "1\n",
      "[ 2  3  4  5  6  7 10 11 12 13 14 15 16 17 20 21 22 23 24 25 26 27]\n",
      "[ 3  4  5  6  7 10 11 12 13 14]\n",
      "[22 23 24 25 26 27]\n",
      "[ 0  1  2  3  4  5  6  7 10 11 12 13 14 15]\n",
      "[24 26]\n",
      "[27 22 15 10  3]\n"
     ]
    }
   ],
   "source": [
    "# sec 1\n",
    "print(comboArray[1])\n",
    "\n",
    "# sec 2\n",
    "print(comboArray[2:])\n",
    "\n",
    "# sec 3\n",
    "print(comboArray[3:13])\n",
    "\n",
    "# sec 4\n",
    "print(comboArray[-6:])\n",
    "\n",
    "# sec 5\n",
    "print(comboArray[-28:-10])\n",
    "\n",
    "# sec 6\n",
    "print(comboArray[20::2])\n",
    "\n",
    "# sec 7 -- we agreed in class to do this as \"from the last element moving backward, every 5th element\"\n",
    "print(comboArray[::-5])\n"
   ]
  },
  {
   "cell_type": "markdown",
   "metadata": {},
   "source": [
    "15. Using `Series`, create a `DataFrame` that looks like this:\n",
    "\n",
    "    | Ingredients | Quantity | Unit |\n",
    "    |----|----|----|\n",
    "    | Flour | 4 | cups |\n",
    "    | Milk | 1 | cup |\n",
    "    | Eggs | 2 | large |\n",
    "    | Spam | 1 | can |\n",
    "\n",
    "    Name: Dinner, dtype: object\n",
    "\n"
   ]
  },
  {
   "cell_type": "code",
   "execution_count": 11,
   "metadata": {},
   "outputs": [
    {
     "name": "stdout",
     "output_type": "stream",
     "text": [
      "  Ingredients  Quantity   Unit\n",
      "0       Flour         4   cups\n",
      "1        Milk         1    cup\n",
      "2        Eggs         2  large\n",
      "3        Spam         1    can\n",
      "<class 'pandas.core.frame.DataFrame'>\n"
     ]
    }
   ],
   "source": [
    "import pandas as pd\n",
    "\n",
    "i = pd.Series([\"Flour\",\"Milk\",\"Eggs\",\"Spam\"],name=\"Ingredients\")\n",
    "q = pd.Series([4, 1, 2, 1],name=\"Quantity\")\n",
    "u = pd.Series([\"cups\",\"cup\",\"large\",\"can\"],name=\"Unit\")\n",
    "\n",
    "Dinner = pd.concat([i, q, u], axis=1) \n",
    "print(Dinner)\n",
    "print(type(Dinner))\n"
   ]
  },
  {
   "cell_type": "markdown",
   "metadata": {},
   "source": [
    "16. Take this data and create a DataFrame named studentData\n",
    "    ```Python\n",
    "        {'Name': ['Jai', 'janusha', 'Gaurav', 'Anuj'],\n",
    "            'Height': [5.1, 6.2, 5.1, 5.2],\n",
    "            'Qualification': ['Msc', 'MA', 'Msc', 'Msc'],\n",
    "            'address': ['Delhi', 'Doha', 'Chennai', 'Dakhar'],\n",
    "            'Age': [21, 23, 24, 21],\n",
    "            'Pets': ['Dog', 'Bunny', 'Chinchilla', 'Parrot'],\n",
    "            'sport': ['Darts', 'Basketball', 'PaddleBoarding', 'Cricket']\n",
    "        }\n",
    "    ```\n"
   ]
  },
  {
   "cell_type": "code",
   "execution_count": 12,
   "metadata": {},
   "outputs": [
    {
     "name": "stdout",
     "output_type": "stream",
     "text": [
      "      Name  Height Qualification  address  Age        Pets           sport\n",
      "0      Jai     5.1           Msc    Delhi   21         Dog           Darts\n",
      "1  janusha     6.2            MA     Doha   23       Bunny      Basketball\n",
      "2   Gaurav     5.1           Msc  Chennai   24  Chinchilla  PaddleBoarding\n",
      "3     Anuj     5.2           Msc   Dakhar   21      Parrot         Cricket\n"
     ]
    }
   ],
   "source": [
    "studentDict = {'Name': ['Jai', 'janusha', 'Gaurav', 'Anuj'],\n",
    "            'Height': [5.1, 6.2, 5.1, 5.2],\n",
    "            'Qualification': ['Msc', 'MA', 'Msc', 'Msc'],\n",
    "            'address': ['Delhi', 'Doha', 'Chennai', 'Dakhar'],\n",
    "            'Age': [21, 23, 24, 21],\n",
    "            'Pets': ['Dog', 'Bunny', 'Chinchilla', 'Parrot'],\n",
    "            'sport': ['Darts', 'Basketball', 'PaddleBoarding', 'Cricket']\n",
    "        }\n",
    "studentData = pd.DataFrame(studentDict)\n",
    "print(studentData)"
   ]
  },
  {
   "cell_type": "markdown",
   "metadata": {},
   "source": [
    "17. Add a new column to the DataFrame with the following deserts:"
   ]
  },
  {
   "cell_type": "code",
   "execution_count": 13,
   "metadata": {},
   "outputs": [],
   "source": [
    "studentData[\"desserts\"] = [\"ice cream\", \"Cashew Fudge\", \"waffels\", \"Carrot Halwa\"]"
   ]
  },
  {
   "cell_type": "code",
   "execution_count": 14,
   "metadata": {},
   "outputs": [
    {
     "ename": "SyntaxError",
     "evalue": "invalid syntax (2976563912.py, line 1)",
     "output_type": "error",
     "traceback": [
      "\u001b[0;36m  Cell \u001b[0;32mIn[14], line 1\u001b[0;36m\u001b[0m\n\u001b[0;31m    18. Sort the 'studentData' DataFrame in Ascending order -- Sorting by column 'Name' and then \"address\"\u001b[0m\n\u001b[0m        ^\u001b[0m\n\u001b[0;31mSyntaxError\u001b[0m\u001b[0;31m:\u001b[0m invalid syntax\n"
     ]
    }
   ],
   "source": [
    "18. Sort the 'studentData' DataFrame in Ascending order -- Sorting by column 'Name' and then \"address\""
   ]
  },
  {
   "cell_type": "code",
   "execution_count": null,
   "metadata": {},
   "outputs": [
    {
     "data": {
      "text/html": [
       "<div>\n",
       "<style scoped>\n",
       "    .dataframe tbody tr th:only-of-type {\n",
       "        vertical-align: middle;\n",
       "    }\n",
       "\n",
       "    .dataframe tbody tr th {\n",
       "        vertical-align: top;\n",
       "    }\n",
       "\n",
       "    .dataframe thead th {\n",
       "        text-align: right;\n",
       "    }\n",
       "</style>\n",
       "<table border=\"1\" class=\"dataframe\">\n",
       "  <thead>\n",
       "    <tr style=\"text-align: right;\">\n",
       "      <th></th>\n",
       "      <th>Name</th>\n",
       "      <th>Height</th>\n",
       "      <th>Qualification</th>\n",
       "      <th>address</th>\n",
       "      <th>Age</th>\n",
       "      <th>Pets</th>\n",
       "      <th>sport</th>\n",
       "      <th>desserts</th>\n",
       "    </tr>\n",
       "  </thead>\n",
       "  <tbody>\n",
       "    <tr>\n",
       "      <th>3</th>\n",
       "      <td>Anuj</td>\n",
       "      <td>5.2</td>\n",
       "      <td>Msc</td>\n",
       "      <td>Dakhar</td>\n",
       "      <td>21</td>\n",
       "      <td>Parrot</td>\n",
       "      <td>Cricket</td>\n",
       "      <td>Carrot Halwa</td>\n",
       "    </tr>\n",
       "    <tr>\n",
       "      <th>2</th>\n",
       "      <td>Gaurav</td>\n",
       "      <td>5.1</td>\n",
       "      <td>Msc</td>\n",
       "      <td>Chennai</td>\n",
       "      <td>24</td>\n",
       "      <td>Chinchilla</td>\n",
       "      <td>PaddleBoarding</td>\n",
       "      <td>waffels</td>\n",
       "    </tr>\n",
       "    <tr>\n",
       "      <th>0</th>\n",
       "      <td>Jai</td>\n",
       "      <td>5.1</td>\n",
       "      <td>Msc</td>\n",
       "      <td>Delhi</td>\n",
       "      <td>21</td>\n",
       "      <td>Dog</td>\n",
       "      <td>Darts</td>\n",
       "      <td>ice cream</td>\n",
       "    </tr>\n",
       "    <tr>\n",
       "      <th>1</th>\n",
       "      <td>janusha</td>\n",
       "      <td>6.2</td>\n",
       "      <td>MA</td>\n",
       "      <td>Doha</td>\n",
       "      <td>23</td>\n",
       "      <td>Bunny</td>\n",
       "      <td>Basketball</td>\n",
       "      <td>Cashew Fudge</td>\n",
       "    </tr>\n",
       "  </tbody>\n",
       "</table>\n",
       "</div>"
      ],
      "text/plain": [
       "      Name  Height Qualification  address  Age        Pets           sport  \\\n",
       "3     Anuj     5.2           Msc   Dakhar   21      Parrot         Cricket   \n",
       "2   Gaurav     5.1           Msc  Chennai   24  Chinchilla  PaddleBoarding   \n",
       "0      Jai     5.1           Msc    Delhi   21         Dog           Darts   \n",
       "1  janusha     6.2            MA     Doha   23       Bunny      Basketball   \n",
       "\n",
       "       desserts  \n",
       "3  Carrot Halwa  \n",
       "2       waffels  \n",
       "0     ice cream  \n",
       "1  Cashew Fudge  "
      ]
     },
     "execution_count": 77,
     "metadata": {},
     "output_type": "execute_result"
    }
   ],
   "source": [
    "studentData.sort_values([\"Name\",\"address\"],ascending=[True,True])"
   ]
  },
  {
   "cell_type": "markdown",
   "metadata": {},
   "source": [
    "19. Save this `DataFrame` here below to disc as a `.CSV` file with the name `cows_and_goats.csv`:\n",
    "\n",
    "    ```python\n",
    "        df = pd.DataFrame({'Cows': [12, 20], 'Goats': [22, 19]}, index=['Year 1', 'Year 2'])\n",
    "    ```\n",
    "\n"
   ]
  },
  {
   "cell_type": "code",
   "execution_count": null,
   "metadata": {},
   "outputs": [],
   "source": [
    "df = pd.DataFrame({'Cows': [12, 20], 'Goats': [22, 19]}, index=['Year 1', 'Year 2'])\n",
    "df.to_csv('cows_and_goats.csv')"
   ]
  },
  {
   "cell_type": "markdown",
   "metadata": {},
   "source": [
    "20. (A) Using Pandas, make your own .CSV file with data on vegetables and save it. (B) Using Pandas, make a change to your CSV file, and save a copy with a different name."
   ]
  },
  {
   "cell_type": "code",
   "execution_count": null,
   "metadata": {},
   "outputs": [],
   "source": [
    "veggieDict = {'Name': ['Carrot', 'Eggplant', 'Avocado'],\n",
    "            'Color': ['Orange', 'Purple','Green'],\n",
    "            'Better': ['Raw', 'Cooked', 'Mashed']\n",
    "        }\n",
    "veggieData = pd.DataFrame(veggieDict)\n",
    "veggieDict.to_csv('veggies.csv')\n",
    "\n",
    "newVeggieData = pd.read_csv('veggies.csv')\n",
    "newVeggieData['Feed']=['Rabbit','Deer','Squirrel']\n",
    "newVeggieData.to_csv('newVeggies.csv')"
   ]
  }
 ],
 "metadata": {
  "kernelspec": {
   "display_name": "Python 3",
   "language": "python",
   "name": "python3"
  },
  "language_info": {
   "codemirror_mode": {
    "name": "ipython",
    "version": 3
   },
   "file_extension": ".py",
   "mimetype": "text/x-python",
   "name": "python",
   "nbconvert_exporter": "python",
   "pygments_lexer": "ipython3",
   "version": "3.11.5"
  }
 },
 "nbformat": 4,
 "nbformat_minor": 2
}
