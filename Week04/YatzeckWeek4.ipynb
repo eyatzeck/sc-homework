{
 "cells": [
  {
   "cell_type": "markdown",
   "metadata": {},
   "source": [
    "# Elena Yatzeck\n",
    "# Homework Week 4\n",
    "\n",
    "__Use markdown formatting for the following questions (e.g., bold lettering, bullet points, different font sizes, etc.):__\n",
    "\n",
    "1. __What does one need to do to use a module?__ use \"import <moduleName>\" before invoking the module in the subsequent code\n",
    "2. __Name a Module (not the DateTime Nodule) we looked at and write a line or 2 of code as an example using this module.__\n"
   ]
  },
  {
   "cell_type": "code",
   "execution_count": 922,
   "metadata": {},
   "outputs": [
    {
     "name": "stdout",
     "output_type": "stream",
     "text": [
      "Round up ... 2\n"
     ]
    }
   ],
   "source": [
    "import math\n",
    "\n",
    "print(\"Round up ...\", math.ceil(1.4))"
   ]
  },
  {
   "cell_type": "markdown",
   "metadata": {},
   "source": [
    "3. __What is a benefit of using Exception handling?__  Allows the program to keep running, while still reporting that something unexpected has happened.\n",
    "4. __What are the 4 components used for Python Exception Handling?__  try, except, else, finally\n",
    "5. __NumPy arrays are like what Python data type?__ list\n",
    "6. __What is one of the main benefits of using NumPy arrays.__  faster and more compact, plus provides a mechanism to specify the data type.  \n",
    "7. __What is one of the main requirements about the 'dtype' of NumPy arrays?__ strictly speaking, lists can contain elements which have different data types, whereas numpy arrays are restricted to just one.  \n",
    "8. __Of the 10 uses of NumPy, name 2.__ can seamlessly integrate with a wide variety of databases; supplies a large number of high-level mathematical functions\n",
    "9. __Name one of the other libraries we'll use with NumPy?__ Pandas\n",
    "10. __What is the shape of NumPy arrays?__  defined by number of rows and number of columns\n",
    "11. __What is a Tensor?__ Tensors are like np.arrays, but they are immutable\n",
    "12. __Name a reason why it's better using NumPy for Data Analysis than using a Python List?__  faster and more compact, consumes less memory, and provides a mechanism to specify the data type\n",
    "13. __When creating an \"empty\" array, where do the elements come from?__  It is an uninitialized data buffer that contains whatever arbitrary garbage was there at the time it was created.\n"
   ]
  },
  {
   "cell_type": "markdown",
   "metadata": {},
   "source": [
    "## Flow Control Methods:"
   ]
  },
  {
   "cell_type": "code",
   "execution_count": 923,
   "metadata": {},
   "outputs": [
    {
     "name": "stdout",
     "output_type": "stream",
     "text": [
      "Renting a car is very expensive\n"
     ]
    }
   ],
   "source": [
    "# 1. Create an if statement: if 'age' is greater than or equal to 25, print \"Renting a car is more affordable\", however if 'age' is less than 25, print \"Renting a car is very expensive.\"\n",
    "age = 22\n",
    "if(age >= 25):\n",
    "    print(\"Renting a car is more affordable\")\n",
    "else:\n",
    "    print(\"Renting a car is very expensive\")"
   ]
  },
  {
   "cell_type": "code",
   "execution_count": 924,
   "metadata": {},
   "outputs": [
    {
     "name": "stdout",
     "output_type": "stream",
     "text": [
      "Renting a car is more affordable\n"
     ]
    }
   ],
   "source": [
    "# 2. Create and chain an if-else statement: if 'age' is greater than or equal to 25, print \"Renting a car is more affordable.\" If 'age' is less than 25 but greater than or equal to 18, print \"Renting a car is very expensive.\" Finally, if age is less than 18, print \"You cannot legally rent a car.\"\n",
    "age=26\n",
    "if(age >= 25):\n",
    "    print(\"Renting a car is more affordable\")\n",
    "elif(age < 25 and age >= 18):\n",
    "    print(\"Renting a car is very expensive\")\n",
    "else:\n",
    "    print(\"You cannot legally rent a car\")"
   ]
  },
  {
   "cell_type": "code",
   "execution_count": 925,
   "metadata": {},
   "outputs": [
    {
     "name": "stdout",
     "output_type": "stream",
     "text": [
      "e\n",
      "u\n",
      "i\n",
      "o\n",
      "o\n",
      "u\n",
      "o\n",
      "e\n",
      "e\n",
      "a\n",
      "o\n",
      "string length is 43\n"
     ]
    }
   ],
   "source": [
    "# 3. Loop over the following string to (1) count all the characters in the string and (2) print out all the vowels\n",
    "string = \"The quick brown fox jumps over the lazy dog\" \n",
    "i = 0\n",
    "while i < len(string):\n",
    "        if(string[i] == \"a\" or string[i] == \"e\" or string[i] == \"i\" or string[i] == \"o\" or string[i] == \"u\"):\n",
    "                print (string[i])\n",
    "        i += 1\n",
    "   \n",
    "print(\"string length is \" + str(i))"
   ]
  },
  {
   "cell_type": "code",
   "execution_count": 926,
   "metadata": {},
   "outputs": [
    {
     "name": "stdout",
     "output_type": "stream",
     "text": [
      "aqua trousers\n",
      "maple trousers\n",
      "cerise trousers\n",
      "burnt sienna trousers\n",
      "auburn trousers\n",
      "gunmetal blue trousers\n",
      "Dark Sapphire trousers\n",
      "fuchsia trousers\n",
      "aqua blouse\n",
      "maple blouse\n",
      "cerise blouse\n",
      "burnt sienna blouse\n",
      "auburn blouse\n",
      "gunmetal blue blouse\n",
      "Dark Sapphire blouse\n",
      "fuchsia blouse\n",
      "aqua bandana\n",
      "maple bandana\n",
      "cerise bandana\n",
      "burnt sienna bandana\n",
      "auburn bandana\n",
      "gunmetal blue bandana\n",
      "Dark Sapphire bandana\n",
      "fuchsia bandana\n",
      "aqua cumber band\n",
      "maple cumber band\n",
      "cerise cumber band\n",
      "burnt sienna cumber band\n",
      "auburn cumber band\n",
      "gunmetal blue cumber band\n",
      "Dark Sapphire cumber band\n",
      "fuchsia cumber band\n",
      "aqua blazer\n",
      "maple blazer\n",
      "cerise blazer\n",
      "burnt sienna blazer\n",
      "auburn blazer\n",
      "gunmetal blue blazer\n",
      "Dark Sapphire blazer\n",
      "fuchsia blazer\n",
      "aqua vest\n",
      "maple vest\n",
      "cerise vest\n",
      "burnt sienna vest\n",
      "auburn vest\n",
      "gunmetal blue vest\n",
      "Dark Sapphire vest\n",
      "fuchsia vest\n",
      "aqua french beret\n",
      "maple french beret\n",
      "cerise french beret\n",
      "burnt sienna french beret\n",
      "auburn french beret\n",
      "gunmetal blue french beret\n",
      "Dark Sapphire french beret\n",
      "fuchsia french beret\n",
      "aqua scarf\n",
      "maple scarf\n",
      "cerise scarf\n",
      "burnt sienna scarf\n",
      "auburn scarf\n",
      "gunmetal blue scarf\n",
      "Dark Sapphire scarf\n",
      "fuchsia scarf\n",
      "aqua stole\n",
      "maple stole\n",
      "cerise stole\n",
      "burnt sienna stole\n",
      "auburn stole\n",
      "gunmetal blue stole\n",
      "Dark Sapphire stole\n",
      "fuchsia stole\n"
     ]
    }
   ],
   "source": [
    "# 4. Write a nested loop that prints out every piece of clothing from the couture list, in every fashionable color from the panettone set: couture = [\"trousers\", \"blouse\", \"bandana\", \"cumber band\", \"blazer\", \"vest\", \"french beret\", \"scarf\", \"stole\"] and panettone = {\"cerise\", \"fuchsia\", \"aqua\", \"maple\", \"auburn\", \"burnt sienna\", \"gunmetal blue\", \"Dark Sapphire\"}\n",
    "couture = [\"trousers\", \"blouse\", \"bandana\", \"cumber band\", \"blazer\", \"vest\", \"french beret\", \"scarf\", \"stole\"]\n",
    "panettone = {\"cerise\", \"fuchsia\", \"aqua\", \"maple\", \"auburn\", \"burnt sienna\", \"gunmetal blue\", \"Dark Sapphire\"}\n",
    "\n",
    "for i in couture:\n",
    "    for j in panettone:\n",
    "        print(j + \" \" + i)"
   ]
  },
  {
   "cell_type": "code",
   "execution_count": 927,
   "metadata": {},
   "outputs": [
    {
     "name": "stdout",
     "output_type": "stream",
     "text": [
      "45\n"
     ]
    }
   ],
   "source": [
    "# 5. Use range as a loop to calculate the sum of all the numbers from 1 to 100\n",
    "sumAll = 0\n",
    "x = range(100)\n",
    "for n in x:\n",
    "    sumAll += n\n",
    "\n",
    "print(sumAll)"
   ]
  },
  {
   "cell_type": "code",
   "execution_count": 928,
   "metadata": {},
   "outputs": [
    {
     "name": "stdout",
     "output_type": "stream",
     "text": [
      "banana\n"
     ]
    }
   ],
   "source": [
    "# 6. Print the second item in this fruits list. [\"apple\", \"banana\", \"cherry\"]\n",
    "fruits = [\"apple\", \"banana\", \"cherry\"]\n",
    "print(fruits[1])\n"
   ]
  },
  {
   "cell_type": "code",
   "execution_count": 929,
   "metadata": {},
   "outputs": [
    {
     "name": "stdout",
     "output_type": "stream",
     "text": [
      "['kiwi', 'banana', 'cherry']\n"
     ]
    }
   ],
   "source": [
    "# 7. Change the value from \"apple\" to \"kiwi\", in the fruits list. [\"apple\", \"banana\", \"cherry\"]\n",
    "fruits[0] = \"kiwi\"\n",
    "print(fruits)"
   ]
  },
  {
   "cell_type": "code",
   "execution_count": 930,
   "metadata": {},
   "outputs": [
    {
     "name": "stdout",
     "output_type": "stream",
     "text": [
      "['apple', 'banana', 'cherry', 'orange']\n"
     ]
    }
   ],
   "source": [
    "# 8. Use the append method to add \"orange\" to the fruits list. [\"apple\", \"banana\", \"cherry\"]\n",
    "fruits = [\"apple\", \"banana\", \"cherry\"]\n",
    "fruits.append(\"orange\")\n",
    "print(fruits)"
   ]
  },
  {
   "cell_type": "code",
   "execution_count": 931,
   "metadata": {},
   "outputs": [
    {
     "name": "stdout",
     "output_type": "stream",
     "text": [
      "['apple', 'lemon', 'banana', 'cherry']\n"
     ]
    }
   ],
   "source": [
    "# 9. Use the insert method to add \"lemon\" as the second item in the fruits list. [\"apple\", \"banana\", \"cherry\"]\n",
    "fruits = [\"apple\", \"banana\", \"cherry\"]\n",
    "fruits.insert(1, \"lemon\")\n",
    "print(fruits)"
   ]
  },
  {
   "cell_type": "code",
   "execution_count": 932,
   "metadata": {},
   "outputs": [
    {
     "name": "stdout",
     "output_type": "stream",
     "text": [
      "['apple', 'cherry']\n"
     ]
    }
   ],
   "source": [
    "# 10. Use the remove method to remove \"banana\" from the fruits list. [\"apple\", \"banana\", \"cherry\"]\n",
    "fruits = [\"apple\", \"banana\", \"cherry\"]\n",
    "fruits.remove(\"banana\")\n",
    "print(fruits)"
   ]
  },
  {
   "cell_type": "code",
   "execution_count": 933,
   "metadata": {},
   "outputs": [
    {
     "name": "stdout",
     "output_type": "stream",
     "text": [
      "kiwi\n",
      "melon\n"
     ]
    }
   ],
   "source": [
    "# 11. Use negative indexing to print the 3rd and 2nd to last items in the list. [\"apple\", \"banana\", \"cherry\", \"orange\", \"kiwi\", \"melon\", \"mango\"]\n",
    "fruits = [\"apple\", \"banana\", \"cherry\", \"orange\", \"kiwi\", \"melon\", \"mango\"]\n",
    "print(fruits[-3])\n",
    "print(fruits[-2])"
   ]
  },
  {
   "cell_type": "code",
   "execution_count": 934,
   "metadata": {},
   "outputs": [
    {
     "name": "stdout",
     "output_type": "stream",
     "text": [
      "['cherry', 'orange', 'kiwi']\n"
     ]
    }
   ],
   "source": [
    "# 12. Use a range of indexes to print the third, fourth, and fifth item in the list. [\"apple\", \"banana\", \"cherry\", \"orange\", \"kiwi\", \"melon\", \"mango\"]\n",
    "fruits = [\"apple\", \"banana\", \"cherry\", \"orange\", \"kiwi\", \"melon\", \"mango\"]\n",
    "print(fruits[2:5])\n"
   ]
  },
  {
   "cell_type": "code",
   "execution_count": 935,
   "metadata": {},
   "outputs": [
    {
     "name": "stdout",
     "output_type": "stream",
     "text": [
      "7\n"
     ]
    }
   ],
   "source": [
    "# 13. Use the correct syntax to print the number of items in the list. [\"apple\", \"banana\", \"cherry\", \"orange\", \"kiwi\", \"melon\", \"mango\"]\n",
    "fruits = [\"apple\", \"banana\", \"cherry\", \"orange\", \"kiwi\", \"melon\", \"mango\"]\n",
    "print(len(fruits))"
   ]
  },
  {
   "cell_type": "code",
   "execution_count": 936,
   "metadata": {},
   "outputs": [
    {
     "name": "stdout",
     "output_type": "stream",
     "text": [
      "['mango', 'melon', 'kiwi', 'orange', 'cherry', 'banana', 'apple']\n"
     ]
    }
   ],
   "source": [
    "# 14. Use the correct syntax to sort this list in reverse order [\"apple\", \"banana\", \"cherry\", \"orange\", \"kiwi\", \"melon\", \"mango\"]\n",
    "fruits = [\"apple\", \"banana\", \"cherry\", \"orange\", \"kiwi\", \"melon\", \"mango\"]\n",
    "fruits.reverse()\n",
    "print(fruits)\n"
   ]
  },
  {
   "cell_type": "markdown",
   "metadata": {},
   "source": [
    "Use a Python code file for this section:\n"
   ]
  },
  {
   "cell_type": "code",
   "execution_count": 937,
   "metadata": {},
   "outputs": [
    {
     "name": "stdout",
     "output_type": "stream",
     "text": [
      "2023-10-23 20:35:00.738633\n",
      "October\n"
     ]
    }
   ],
   "source": [
    "# 15. Use the DateTime module to get Current Date and Time, and save it to a variable. Then extract just the Full month name form that variable.\n",
    "from datetime import datetime\n",
    "print(datetime.now())\n",
    "print(now.strftime(\"%B\")) "
   ]
  },
  {
   "cell_type": "code",
   "execution_count": 938,
   "metadata": {},
   "outputs": [
    {
     "name": "stdout",
     "output_type": "stream",
     "text": [
      "Hi Gladys! Happy Tuesday!\n",
      "Hi Bert! Happy Sunday!\n"
     ]
    }
   ],
   "source": [
    "# 16. Write a simple function that takes 2 parameters -- a first name and a day name.\n",
    "#    Set a default value for the day name of Sunday.\n",
    "#    Have the function print out a greeting -- using the parameters -- that says something like \"Hi first-name! Happy day-name!\". Remember to use the variables in the greeting to replace first-name and day-name.\n",
    "#    Invoke this function with 2 variables.\n",
    "#    Invoke this function with 1 variable only.\n",
    "\n",
    "def my_function(first_name,day_name=\"Sunday\"):\n",
    "    print(\"Hi \" +first_name + \"! Happy \" +day_name+\"!\")\n",
    "\n",
    "my_function(first_name=\"Gladys\",day_name=\"Tuesday\")\n",
    "my_function(first_name=\"Bert\")"
   ]
  },
  {
   "cell_type": "code",
   "execution_count": 939,
   "metadata": {},
   "outputs": [
    {
     "name": "stdout",
     "output_type": "stream",
     "text": [
      "Cannot divide by zero\n",
      "whew\n"
     ]
    }
   ],
   "source": [
    "# 17. Write a block of code to handle one of the most common Python exception errors. Select one of the common errors from the curriculum section on Python Exception handling. Have your code example uses the try,except, else, and finally components.\n",
    "\n",
    "num = 26\n",
    "den = 0\n",
    "\n",
    "try:\n",
    "    print(num/den)\n",
    "\n",
    "except ZeroDivisionError:\n",
    "    print(\"Cannot divide by zero\")\n",
    "\n",
    "else:\n",
    "    print(num/den)\n",
    "\n",
    "finally:\n",
    "    print(\"whew\")\n"
   ]
  }
 ],
 "metadata": {
  "kernelspec": {
   "display_name": "Python 3",
   "language": "python",
   "name": "python3"
  },
  "language_info": {
   "codemirror_mode": {
    "name": "ipython",
    "version": 3
   },
   "file_extension": ".py",
   "mimetype": "text/x-python",
   "name": "python",
   "nbconvert_exporter": "python",
   "pygments_lexer": "ipython3",
   "version": "3.11.5"
  }
 },
 "nbformat": 4,
 "nbformat_minor": 2
}
