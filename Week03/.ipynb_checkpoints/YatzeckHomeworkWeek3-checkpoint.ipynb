{
 "cells": [
  {
   "cell_type": "markdown",
   "id": "d50e9081-184a-4fbe-9ecf-495ebb9e47ac",
   "metadata": {},
   "source": [
    "# Week 3 homework\n",
    "# Elena Yatzeck\n",
    "\n",
    "## Data Types:\n",
    "\n",
    "Use markdown formatting for the following questions (e.g., bold lettering, bullet points, different font sizes, etc.):\n",
    "\n",
    "* __What is an algorithm?__  An algorithm is a piece of code that performs some task.\n",
    "* __Variable names may not start with certain characters - name two.__ anything not alphanumeric, plus also not numbers\n",
    "* __What is a Semantic error?__ A semantic error is one that expresses something that can be run correctly in Python, but does not do what you intended.\n",
    "* __What is the #1 rule of coding / debugging?__  Seems like that is a bit subjective.  I would say \"assume nothing\"\n",
    "* __List 5 Python reserved words.__ \n",
    "    * True\n",
    "    * False\n",
    "    * break\n",
    "    * global\n",
    "    * while"
   ]
  },
  {
   "cell_type": "markdown",
   "id": "a93523e0-e9c9-4948-b522-28c0bf6484ad",
   "metadata": {},
   "source": [
    "## Open a code cell in your Jupyter Notebook and write the following code:\n",
    "\n",
    "* Write a multi-line comment with your name, favorite food, and dream job on 3 different lines\n",
    "* Assign 5 different data types to 5 different variables. At least one datatype must be a string\n",
    "* Print the length of your string\n",
    "* Print the index value of the 4th character in your string\n",
    "* Create a new variable called savvy, and assign it the string with this phrase \"Learning Data Analytics and Python is Awesome!\"\n",
    "* Return a range of characters that slices the above string from the beginning of \"ing\" up to before \"and\"\n",
    "* Replace \"Awesome\" with \"great\" in the string\n",
    "* Test and print the savvy string to see it contains \"Python\"\n",
    "* Create and assign 3 more variables called name, age and length using the multi-variable naming method\n",
    "* Format a new string called 'miniBio' using variables in curly brackets to complete this phrase... \"Hi my name is (name), I am (tall) and (so) old today.\"\n",
    "* Print 'miniBio'\n",
    "* Cast and print the age variable to a float"
   ]
  },
  {
   "cell_type": "code",
   "execution_count": 1,
   "id": "1e9ec29c-8881-4ccb-9985-ed0d23c705ac",
   "metadata": {},
   "outputs": [
    {
     "name": "stdout",
     "output_type": "stream",
     "text": [
      "12\n",
      " \n",
      "ing Data Analytics \n",
      "Learning Data Analytics and Python is great!\n",
      "Learning Data Analytics and Python is Awesome!\n",
      "Hi, my name is Elena, I am 6 tall, and 10 old today\n",
      "10.0\n"
     ]
    }
   ],
   "source": [
    "'''\n",
    "Elena Yatzeck\n",
    "Baked Chicken\n",
    "Business Intelligence Specialist\n",
    "'''\n",
    "var1 = 1\n",
    "var2 = 2.0\n",
    "var3 = \"I'm a string\"\n",
    "var4 = False\n",
    "var5 = 1j\n",
    "\n",
    "print(len(var3))\n",
    "\n",
    "print(var3[3])\n",
    "\n",
    "savvy = \"Learning Data Analytics and Python is Awesome!\"\n",
    "\n",
    "print(savvy[5:24])\n",
    "\n",
    "print(savvy.replace(\"Awesome\", \"great\"))\n",
    "\n",
    "print(savvy)\n",
    "\n",
    "name, age, tall = \"Elena\", \"10\", \"6\"\n",
    "miniBio = \"Hi, my name is \" + name + \", I am \" + tall + \" tall, and \"+ age+\" old today\"\n",
    "print(miniBio)\n",
    "\n",
    "print(float(age))"
   ]
  },
  {
   "cell_type": "markdown",
   "id": "9061d325-ca59-4eba-905e-651acfb9a02c",
   "metadata": {},
   "source": [
    "## Complex Data Types:\n",
    "\n",
    "__Lists__\n",
    "* Create a list of at least 5 elements of mixed data types\n",
    "* Replace a part of it with something else\n",
    "* Append or insert several more items to the list\n",
    "* Find and print the length of the list\n",
    "* Slice a sub-section of the 1st list, and save it to a different 2nd list\n",
    "* Print the 2nd list\n",
    "* Extend your original list with the 2nd list sliced above\n",
    "* Create a new list called \"simList\" containing at least 5 elements of the same data type, either string, integer, float, or Boolean\n",
    "* Sort \"simList\", and print the list\n",
    "* Copy the \"simList\" list to another 3rd list\n",
    "* Add the 2nd and 3rd lists together into a 4th list\n"
   ]
  },
  {
   "cell_type": "code",
   "execution_count": 13,
   "id": "842888bd-c948-4dc0-8da1-2ed69076deea",
   "metadata": {},
   "outputs": [
    {
     "name": "stdout",
     "output_type": "stream",
     "text": [
      "7\n",
      "[\"I'm a string\", False, 1j]\n",
      "['five', 'four', 'one', 'three', 'two']\n",
      "<class 'NoneType'>\n",
      "['five', 'four', 'one', 'three', 'two', 'five', 'four', 'one', 'three', 'two']\n"
     ]
    }
   ],
   "source": [
    "myList = [var1, var2, var3, var4, var5]\n",
    "\n",
    "myList[0] = 22\n",
    "\n",
    "myList.append(\"Zardok\")\n",
    "myList.append(2.6)\n",
    "\n",
    "print(len(myList))\n",
    "\n",
    "myList2 = myList[2:5]\n",
    "print(myList2)\n",
    "\n",
    "myList3 = myList + myList2\n",
    "\n",
    "simList = [\"one\",\"two\",\"three\",\"four\",\"five\"]\n",
    "\n",
    "simList.sort()\n",
    "print(simList)\n",
    "\n",
    "simList3 = simList\n",
    "print(type(simList2))\n",
    "\n",
    "simList4 = simList + simList3\n",
    "print(simList4)"
   ]
  },
  {
   "cell_type": "markdown",
   "id": "66a69205-19aa-43f1-ade9-7378ae5fb5b2",
   "metadata": {},
   "source": [
    "__Tuples__\n",
    "\n",
    "* Create a tuple of about 5 elements\n",
    "* Multiply your tuple by 3 and save it to a new 2nd tuple\n",
    "* Access and print the 12th element from the 2nd tuple\n",
    "* Sort the 2nd tuple and print it\n",
    "* Copy 4 specific elements from your 2nd tuple to a new 3nd tuple\n",
    "* Unpack the 3rd tuple into 4 variables and print these variables\n",
    "* Create a 4th tuple with single item 50 and print this tuple\n",
    "* Add the 2nd and 3rd tuple together into a 5th tuple and print the tuple"
   ]
  },
  {
   "cell_type": "code",
   "execution_count": 14,
   "id": "174eec05-a419-47ec-b0d0-1bc1a171d36f",
   "metadata": {},
   "outputs": [
    {
     "name": "stdout",
     "output_type": "stream",
     "text": [
      "2\n",
      "(1, 1, 1, 2, 2, 2, 3, 3, 3, 4, 4, 4, 5, 5, 5)\n",
      "1\n",
      "2\n",
      "3\n",
      "4\n",
      "(1, 2, 3, 4, 5, 1, 2, 3, 4, 5, 1, 2, 3, 4, 5, 1, 2, 3, 4)\n"
     ]
    }
   ],
   "source": [
    "tuple1 = ( 1, 2, 3, 4, 5)\n",
    "\n",
    "tuple2 = tuple1 * 3\n",
    "\n",
    "print(tuple2[11])\n",
    "\n",
    "sorted_ = tuple(sorted(tuple2))\n",
    "print(sorted_)\n",
    "\n",
    "tuple3 = tuple2[0:4]\n",
    "\n",
    "t0 = tuple3[0]\n",
    "t1 = tuple3[1]\n",
    "t2 = tuple3[2]\n",
    "t3 = tuple3[3]\n",
    "print(t0)\n",
    "print(t1)\n",
    "print(t2)\n",
    "print(t3)\n",
    "\n",
    "tuple4 = (50)\n",
    "\n",
    "tuple5 = tuple2 + tuple3\n",
    "print(tuple5)"
   ]
  },
  {
   "cell_type": "markdown",
   "id": "741605c8-2d45-41ea-9ccf-fc5583f3e5d9",
   "metadata": {},
   "source": [
    "__Sets__\n",
    "* Create a set of about 3 elements\n",
    "* Add a list of fruits to the above set and print the result\n",
    "* Add a car element to your set\n",
    "* Create a 2nd set with a few odd items\n",
    "* Save the union of 1st set and 2nd set to a 3rd set\n",
    "* Pop an element from the 2nd set, and print the remainder of the set\n",
    "* Clear the 1st set and print the result\n",
    "* Discard an element, and remove another element from the 3rd set\n",
    "* Print the remainder of the 3rd set"
   ]
  },
  {
   "cell_type": "code",
   "execution_count": 27,
   "id": "49354b0b-3e4b-48bc-a8c6-6b4f3b7c1cf8",
   "metadata": {},
   "outputs": [
    {
     "name": "stdout",
     "output_type": "stream",
     "text": [
      "{'apple', 'grapefruit', 'cherry', 'banana', 'grape'}\n",
      "{'apple', 'ladle', 'fork', 'grapefruit', 'plate', 'Volvo', 'cherry', 'banana', 'grape'}\n",
      "{'ladle', 'fork'}\n",
      "set()\n",
      "{'apple', 'fork', 'grapefruit', 'plate', 'cherry', 'banana', 'grape'}\n"
     ]
    }
   ],
   "source": [
    "myset = {\"apple\", \"banana\", \"cherry\"}\n",
    "\n",
    "myset.add(\"grape\")\n",
    "myset.add(\"grapefruit\")\n",
    "print(myset)\n",
    "\n",
    "myset.add(\"Volvo\")\n",
    "\n",
    "myset2 = {\"plate\",\"fork\",\"ladle\" }\n",
    "\n",
    "myset_union = myset.union(myset2)\n",
    "print(myset_union)\n",
    "\n",
    "myset2.remove(\"plate\")\n",
    "print(myset2)\n",
    "\n",
    "myset.clear()\n",
    "print(myset)\n",
    "\n",
    "myset_union.remove(\"ladle\")\n",
    "myset_union.remove(\"Volvo\")\n",
    "print(myset_union)"
   ]
  },
  {
   "cell_type": "markdown",
   "id": "b01ed5fa-41ad-437d-b24d-0e625a0e2ca6",
   "metadata": {},
   "source": [
    "__Dictionaries__\n",
    "* Create a dictionary with at least 5 values of different data types\n",
    "* Print out 1 value\n",
    "* Replace any one value in your dictionary with your name\n",
    "* Add your favorite color to the dictionary\n",
    "* Add a list, tuple or set to your dictionary\n",
    "* Print a list of the dictionary keys\n",
    "* Print a list of the dictionary values\n",
    "* Copy your 1st dictionary into a 2nd dictionary\n",
    "* Pop an item from the 2nd dictionary, and print the dictionary\n",
    "* Remove all the elements from the 2nd dictionary and print the result"
   ]
  },
  {
   "cell_type": "code",
   "execution_count": 44,
   "id": "dee14d82-f426-45c3-a184-aae951f4c2e9",
   "metadata": {},
   "outputs": [
    {
     "name": "stdout",
     "output_type": "stream",
     "text": [
      "Dionysia\n",
      "dict_keys(['name', 'age', 'location', 'is_happy', 'instrument', 'color', 'pets'])\n",
      "dict_values(['Elena', 28, 'Athens', False, 'lyre', 'green', {'Mikey', 'Marmie'}])\n",
      "{'age': 28, 'location': 'Athens', 'is_happy': False, 'instrument': 'lyre', 'color': 'green', 'pets': {'Mikey', 'Marmie'}}\n",
      "{}\n"
     ]
    }
   ],
   "source": [
    "my_information = {'name': 'Dionysia', 'age': 28, 'location': 'Athens', 'is_happy' : False, 'instrument' : 'lyre'}\n",
    "\n",
    "print(my_information['name'])\n",
    "\n",
    "my_information['name'] = 'Elena'\n",
    "\n",
    "my_information['color'] = 'green'\n",
    "\n",
    "my_information['pets'] = {'Marmie','Mikey'}\n",
    "\n",
    "print(my_information.keys())\n",
    "\n",
    "print(my_information.values())\n",
    "\n",
    "dup_dict = my_information\n",
    "\n",
    "dup_dict.pop('name')\n",
    "print(dup_dict)\n",
    "\n",
    "dup_dict.clear()\n",
    "print(dup_dict)"
   ]
  },
  {
   "cell_type": "code",
   "execution_count": null,
   "id": "8b662013-d386-4a24-ac79-4fb828b4ee44",
   "metadata": {},
   "outputs": [],
   "source": []
  }
 ],
 "metadata": {
  "kernelspec": {
   "display_name": "Python 3 (ipykernel)",
   "language": "python",
   "name": "python3"
  },
  "language_info": {
   "codemirror_mode": {
    "name": "ipython",
    "version": 3
   },
   "file_extension": ".py",
   "mimetype": "text/x-python",
   "name": "python",
   "nbconvert_exporter": "python",
   "pygments_lexer": "ipython3",
   "version": "3.11.5"
  }
 },
 "nbformat": 4,
 "nbformat_minor": 5
}
